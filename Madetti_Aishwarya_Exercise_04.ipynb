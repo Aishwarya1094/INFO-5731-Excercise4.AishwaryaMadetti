{
  "cells": [
    {
      "cell_type": "markdown",
      "metadata": {
        "id": "VdRwkJBn70nX"
      },
      "source": [
        "# **INFO5731 In-class Exercise 4**\n",
        "\n",
        "**This exercise will provide a valuable learning experience in working with text data and extracting features using various topic modeling algorithms. Key concepts such as Latent Dirichlet Allocation (LDA), Latent Semantic Analysis (LSA), lda2vec, and BERTopic.**"
      ]
    },
    {
      "cell_type": "markdown",
      "metadata": {
        "id": "TU-pLW33lpcS"
      },
      "source": [
        "***Please use the text corpus you collected in your last in-class-exercise for this exercise. Perform the following tasks***.\n",
        "\n",
        "**Expectations**:\n",
        "*   Students are expected to complete the exercise during lecture period to meet the active participation criteria of the course.\n",
        "*   Use the provided .*ipynb* document to write your code & respond to the questions. Avoid generating a new file.\n",
        "*   Write complete answers and run all the cells before submission.\n",
        "*   Make sure the submission is \"clean\"; *i.e.*, no unnecessary code cells.\n",
        "*   Once finished, allow shared rights from top right corner (*see Canvas for details*).\n",
        "\n",
        "**Total points**: 40\n",
        "\n",
        "**Deadline**: This in-class exercise is due at the end of the day tomorrow, at 11:59 PM.\n",
        "\n",
        "**Late submissions will have a penalty of 10% of the marks for each day of late submission, and no requests will be answered. Manage your time accordingly.**\n"
      ]
    },
    {
      "cell_type": "markdown",
      "metadata": {
        "id": "ARqm7u6B70ne"
      },
      "source": [
        "## Question 1 (10 Points)\n",
        "\n",
        "**Generate K topics by using LDA, the number of topics K should be decided by the coherence score, then summarize what are the topics.**\n",
        "\n",
        "You may refer the code here: https://www.machinelearningplus.com/nlp/topic-modeling-gensim-python/"
      ]
    },
    {
      "cell_type": "code",
      "execution_count": 89,
      "metadata": {
        "colab": {
          "base_uri": "https://localhost:8080/"
        },
        "id": "Yh72s07Z1wu0",
        "outputId": "54f797aa-8729-40e7-d61b-13deb90084ff"
      },
      "outputs": [
        {
          "output_type": "stream",
          "name": "stderr",
          "text": [
            "[nltk_data] Downloading package punkt to /root/nltk_data...\n",
            "[nltk_data]   Package punkt is already up-to-date!\n"
          ]
        },
        {
          "output_type": "execute_result",
          "data": {
            "text/plain": [
              "True"
            ]
          },
          "metadata": {},
          "execution_count": 89
        }
      ],
      "source": [
        "import nltk\n",
        "nltk.download('punkt')\n"
      ]
    },
    {
      "cell_type": "code",
      "execution_count": 90,
      "metadata": {
        "colab": {
          "base_uri": "https://localhost:8080/"
        },
        "id": "BdOdxnC716Tp",
        "outputId": "2bb97aa1-4b3f-4fe4-b779-707d33bd676b"
      },
      "outputs": [
        {
          "output_type": "stream",
          "name": "stderr",
          "text": [
            "[nltk_data] Downloading package stopwords to /root/nltk_data...\n",
            "[nltk_data]   Package stopwords is already up-to-date!\n"
          ]
        },
        {
          "output_type": "execute_result",
          "data": {
            "text/plain": [
              "True"
            ]
          },
          "metadata": {},
          "execution_count": 90
        }
      ],
      "source": [
        "import nltk\n",
        "nltk.download('stopwords')\n"
      ]
    },
    {
      "cell_type": "code",
      "execution_count": 93,
      "metadata": {
        "colab": {
          "base_uri": "https://localhost:8080/",
          "height": 752
        },
        "id": "RATPM37r0-to",
        "outputId": "6fb77b09-94c9-4e81-893f-ff78afa1b5c9"
      },
      "outputs": [
        {
          "output_type": "stream",
          "name": "stderr",
          "text": [
            "WARNING:gensim.models.ldamodel:too few updates, training might not converge; consider increasing the number of passes or iterations to improve accuracy\n",
            "WARNING:gensim.models.ldamodel:too few updates, training might not converge; consider increasing the number of passes or iterations to improve accuracy\n",
            "WARNING:gensim.models.ldamodel:too few updates, training might not converge; consider increasing the number of passes or iterations to improve accuracy\n",
            "WARNING:gensim.models.ldamodel:too few updates, training might not converge; consider increasing the number of passes or iterations to improve accuracy\n",
            "WARNING:gensim.models.ldamodel:too few updates, training might not converge; consider increasing the number of passes or iterations to improve accuracy\n",
            "WARNING:gensim.models.ldamodel:too few updates, training might not converge; consider increasing the number of passes or iterations to improve accuracy\n",
            "WARNING:gensim.models.ldamodel:too few updates, training might not converge; consider increasing the number of passes or iterations to improve accuracy\n",
            "WARNING:gensim.models.ldamodel:too few updates, training might not converge; consider increasing the number of passes or iterations to improve accuracy\n"
          ]
        },
        {
          "output_type": "display_data",
          "data": {
            "text/plain": [
              "<Figure size 640x480 with 1 Axes>"
            ],
            "image/png": "[encoded data removed]"
          },
          "metadata": {}
        },
        {
          "output_type": "stream",
          "name": "stderr",
          "text": [
            "WARNING:gensim.models.ldamodel:too few updates, training might not converge; consider increasing the number of passes or iterations to improve accuracy\n"
          ]
        },
        {
          "output_type": "stream",
          "name": "stdout",
          "text": [
            "Optimal number of topics: 2\n",
            "Summarized Topics:\n",
            "Topic 0: product | recommended | exceeded | expectations | highly | disappointed | quality | satisfied | excellent | happy\n",
            "\n",
            "Topic 1: experience | poor | service | happy | product | excellent | satisfied | quality | disappointed | highly\n",
            "\n"
          ]
        }
      ],
      "source": [
        "# Import necessary libraries\n",
        "import gensim\n",
        "from gensim import corpora\n",
        "from gensim.models import CoherenceModel\n",
        "import numpy as np\n",
        "import matplotlib.pyplot as plt\n",
        "from nltk.tokenize import word_tokenize\n",
        "from nltk.corpus import stopwords\n",
        "import re\n",
        "\n",
        "# Sample text corpus\n",
        "text_corpus = [\n",
        "    \"The product is excellent and I am very satisfied with it.\",\n",
        "    \"I'm disappointed with the quality of this product.\",\n",
        "    \"The service was poor, and I'm not happy with the experience.\",\n",
        "    \"This product exceeded my expectations. Highly recommended!\"\n",
        "]\n",
        "\n",
        "# Function to preprocess text\n",
        "def preprocess_text(text):\n",
        "    # Tokenize words\n",
        "    tokens = word_tokenize(text.lower())\n",
        "    # Remove stopwords and non-alphabetic tokens\n",
        "    tokens = [word for word in tokens if word.isalpha() and word not in stopwords.words('english')]\n",
        "    return tokens\n",
        "\n",
        "# Preprocess the text corpus\n",
        "preprocessed_corpus = [preprocess_text(doc) for doc in text_corpus]\n",
        "\n",
        "# Create dictionary representation of the documents\n",
        "dictionary = corpora.Dictionary(preprocessed_corpus)\n",
        "\n",
        "# Create corpus\n",
        "corpus = [dictionary.doc2bow(doc) for doc in preprocessed_corpus]\n",
        "\n",
        "# Determine the optimal number of topics using coherence score\n",
        "def compute_coherence_values(dictionary, corpus, texts, limit, start=2, step=1):\n",
        "    coherence_values = []\n",
        "    model_list = []\n",
        "    for num_topics in range(start, limit, step):\n",
        "        model = gensim.models.LdaModel(corpus=corpus, id2word=dictionary, num_topics=num_topics)\n",
        "        model_list.append(model)\n",
        "        coherencemodel = CoherenceModel(model=model, texts=texts, dictionary=dictionary, coherence='c_v')\n",
        "        coherence_values.append(coherencemodel.get_coherence())\n",
        "    return model_list, coherence_values\n",
        "\n",
        "# Compute coherence values for different number of topics\n",
        "start = 2\n",
        "limit = 10\n",
        "step = 1\n",
        "model_list, coherence_values = compute_coherence_values(dictionary=dictionary, corpus=corpus, texts=preprocessed_corpus, start=start, limit=limit, step=step)\n",
        "\n",
        "# Plot coherence score vs. number of topics\n",
        "x = range(start, limit, step)\n",
        "plt.plot(x, coherence_values)\n",
        "plt.xlabel(\"Number of Topics\")\n",
        "plt.ylabel(\"Coherence score\")\n",
        "plt.title(\"Coherence Score vs. Number of Topics\")\n",
        "plt.show()\n",
        "\n",
        "# Find the optimal number of topics\n",
        "optimal_num_topics = x[np.argmax(coherence_values)]\n",
        "print(\"Optimal number of topics:\", optimal_num_topics)\n",
        "\n",
        "# Train LDA model with the optimal number of topics\n",
        "lda_model = gensim.models.LdaModel(corpus=corpus, id2word=dictionary, num_topics=optimal_num_topics)\n",
        "\n",
        "# Summarize topics\n",
        "print(\"Summarized Topics:\")\n",
        "for idx, topic in lda_model.print_topics():\n",
        "    topic_words = [word.split('*')[1].strip().strip('\"') for word in topic.split('+')]\n",
        "    topic_str = \" | \".join(topic_words)\n",
        "    print(\"Topic {}: {}\\n\".format(idx, topic_str))\n"
      ]
    },
    {
      "cell_type": "markdown",
      "metadata": {
        "id": "dEUjBE6C70nf"
      },
      "source": [
        "## Question 2 (10 Points)\n",
        "\n",
        "**Generate K topics by using LSA, the number of topics K should be decided by the coherence score, then summarize what are the topics.**\n",
        "\n",
        "You may refer the code here: https://www.datacamp.com/community/tutorials/discovering-hidden-topics-python"
      ]
    },
    {
      "cell_type": "code",
      "execution_count": null,
      "metadata": {
        "id": "1oGR59YU3yX5",
        "colab": {
          "base_uri": "https://localhost:8080/"
        },
        "outputId": "c7ceafa7-bd67-4583-aa1c-4b93fc050371"
      },
      "outputs": [
        {
          "output_type": "stream",
          "name": "stderr",
          "text": [
            "[nltk_data] Downloading package wordnet to /root/nltk_data...\n",
            "[nltk_data]   Package wordnet is already up-to-date!\n"
          ]
        },
        {
          "output_type": "execute_result",
          "data": {
            "text/plain": [
              "True"
            ]
          },
          "metadata": {},
          "execution_count": 38
        }
      ],
      "source": [
        "import nltk\n",
        "nltk.download('wordnet')\n"
      ]
    },
    {
      "cell_type": "code",
      "source": [
        "# Importing necessary libraries\n",
        "import os.path\n",
        "from gensim import corpora\n",
        "from gensim.models import LsiModel\n",
        "from nltk.tokenize import RegexpTokenizer\n",
        "from nltk.corpus import stopwords\n",
        "from nltk.stem.porter import PorterStemmer\n",
        "from gensim.models.coherencemodel import CoherenceModel\n",
        "import matplotlib.pyplot as plt\n",
        "\n",
        "# Text data\n",
        "documents = [\n",
        "    \"The product is excellent and I am very satisfied with it.\",\n",
        "    \"I'm disappointed with the quality of this product.\",\n",
        "    \"The service was poor, and I'm not happy with the experience.\",\n",
        "    \"This product exceeded my expectations. Highly recommended!\"\n",
        "]\n",
        "\n",
        "# Function to load data\n",
        "def load_data(documents):\n",
        "    \"\"\"\n",
        "    Input: List of documents\n",
        "    Output: Preprocessed documents\n",
        "    \"\"\"\n",
        "    # Tokenize, remove stop words, and perform stemming\n",
        "    tokenizer = RegexpTokenizer(r'\\w+')\n",
        "    en_stop = set(stopwords.words('english'))\n",
        "    p_stemmer = PorterStemmer()\n",
        "    texts = []\n",
        "    for doc in documents:\n",
        "        # Tokenize\n",
        "        raw = doc.lower()\n",
        "        tokens = tokenizer.tokenize(raw)\n",
        "        # Remove stop words and perform stemming\n",
        "        stopped_tokens = [token for token in tokens if token not in en_stop]\n",
        "        stemmed_tokens = [p_stemmer.stem(token) for token in stopped_tokens]\n",
        "        texts.append(stemmed_tokens)\n",
        "    return texts\n",
        "\n",
        "# Function to prepare corpus\n",
        "def prepare_corpus(doc_clean):\n",
        "    \"\"\"\n",
        "    Input: Preprocessed documents\n",
        "    Output: Term dictionary and Document Term Matrix\n",
        "    \"\"\"\n",
        "    dictionary = corpora.Dictionary(doc_clean)\n",
        "    doc_term_matrix = [dictionary.doc2bow(doc) for doc in doc_clean]\n",
        "    return dictionary, doc_term_matrix\n",
        "\n",
        "# Function to compute coherence values\n",
        "def compute_coherence_values(dictionary, doc_term_matrix, doc_clean, start, stop, step):\n",
        "    \"\"\"\n",
        "    Input: Dictionary, Document Term Matrix, Preprocessed documents, Range for number of topics\n",
        "    Output: Model list and coherence values\n",
        "    \"\"\"\n",
        "    coherence_values = []\n",
        "    model_list = []\n",
        "    for num_topics in range(start, stop, step):\n",
        "        # Generate LSA model\n",
        "        model = LsiModel(doc_term_matrix, num_topics=num_topics, id2word=dictionary)\n",
        "        model_list.append(model)\n",
        "        # Compute coherence score\n",
        "        coherence_model = CoherenceModel(model=model, texts=doc_clean, dictionary=dictionary, coherence='c_v')\n",
        "        coherence_values.append(coherence_model.get_coherence())\n",
        "    return model_list, coherence_values\n",
        "\n",
        "# Function to plot coherence score values\n",
        "def plot_graph(doc_clean, start, stop, step):\n",
        "    \"\"\"\n",
        "    Input: Preprocessed documents, Range for number of topics\n",
        "    Output: Plot of coherence score values\n",
        "    \"\"\"\n",
        "    dictionary, doc_term_matrix = prepare_corpus(doc_clean)\n",
        "    model_list, coherence_values = compute_coherence_values(dictionary, doc_term_matrix, doc_clean, start, stop, step)\n",
        "    # Show graph\n",
        "    x = range(start, stop, step)\n",
        "    plt.plot(x, coherence_values)\n",
        "    plt.xlabel(\"Number of Topics\")\n",
        "    plt.ylabel(\"Coherence score\")\n",
        "    plt.legend((\"coherence_values\"), loc='best')\n",
        "    plt.show()\n",
        "\n",
        "# Setting start, stop, and step for number of topics\n",
        "start, stop, step = 2, 6, 1\n",
        "\n",
        "# Preprocessing data\n",
        "clean_text = load_data(documents)\n",
        "\n",
        "# Plotting coherence score values\n",
        "plot_graph(clean_text, start, stop, step)\n"
      ],
      "metadata": {
        "colab": {
          "base_uri": "https://localhost:8080/",
          "height": 449
        },
        "id": "HQ4GSWD8CKdm",
        "outputId": "2248c9bc-13aa-4ff7-e8d7-daf79a9e2ddd"
      },
      "execution_count": 94,
      "outputs": [
        {
          "output_type": "display_data",
          "data": {
            "text/plain": [
              "<Figure size 640x480 with 1 Axes>"
            ],
            "image/png": "[encoded data removed]"
          },
          "metadata": {}
        }
      ]
    },
    {
      "cell_type": "code",
      "execution_count": 95,
      "metadata": {
        "id": "EoQX5s4O70nf",
        "colab": {
          "base_uri": "https://localhost:8080/"
        },
        "outputId": "e46768bd-94ac-4176-f57c-1b71419cd54a"
      },
      "outputs": [
        {
          "output_type": "stream",
          "name": "stdout",
          "text": [
            "[(0, '0.667*\"product\" + 0.333*\"highli\" + 0.333*\"expect\" + 0.333*\"exceed\" + 0.333*\"recommend\" + 0.167*\"excel\" + 0.167*\"satisfi\" + 0.167*\"disappoint\" + 0.167*\"qualiti\" + 0.000*\"experi\"'), (1, '-0.500*\"poor\" + -0.500*\"happi\" + -0.500*\"servic\" + -0.500*\"experi\" + -0.000*\"qualiti\" + -0.000*\"disappoint\" + 0.000*\"satisfi\" + 0.000*\"recommend\" + 0.000*\"exceed\" + 0.000*\"highli\"'), (2, '-0.333*\"product\" + 0.333*\"recommend\" + -0.333*\"qualiti\" + 0.333*\"highli\" + 0.333*\"expect\" + 0.333*\"exceed\" + -0.333*\"excel\" + -0.333*\"disappoint\" + -0.333*\"satisfi\" + 0.000*\"experi\"'), (3, '-0.500*\"qualiti\" + 0.500*\"excel\" + 0.500*\"satisfi\" + -0.500*\"disappoint\" + -0.000*\"product\" + 0.000*\"poor\" + 0.000*\"experi\" + 0.000*\"servic\" + 0.000*\"happi\" + -0.000*\"recommend\"')]\n"
          ]
        }
      ],
      "source": [
        "# Function to create an LSA model using Gensim\n",
        "def create_gensim_lsa_model(doc_clean, number_of_topics, words):\n",
        "    \"\"\"\n",
        "    Input: Preprocessed documents, number of topics, number of words associated with each topic\n",
        "    Output: LSA model\n",
        "    \"\"\"\n",
        "    dictionary, doc_term_matrix = prepare_corpus(doc_clean)\n",
        "    # Generate LSA model\n",
        "    lsamodel = LsiModel(doc_term_matrix, num_topics=number_of_topics, id2word=dictionary)\n",
        "    print(lsamodel.print_topics(num_topics=number_of_topics, num_words=words))\n",
        "    return lsamodel\n",
        "\n",
        "# Determine the number of topics based on coherence score\n",
        "def determine_optimal_number_of_topics(doc_clean, start, stop, step):\n",
        "    \"\"\"\n",
        "    Input: Preprocessed documents, range for number of topics\n",
        "    Output: Optimal number of topics\n",
        "    \"\"\"\n",
        "    dictionary, doc_term_matrix = prepare_corpus(doc_clean)\n",
        "    model_list, coherence_values = compute_coherence_values(dictionary, doc_term_matrix, doc_clean, start, stop, step)\n",
        "    # Determine the optimal number of topics based on coherence score\n",
        "    optimal_num_topics = start + step * coherence_values.index(max(coherence_values))\n",
        "    return optimal_num_topics\n",
        "\n",
        "# LSA Model\n",
        "start, stop, step = 2, 6, 1\n",
        "clean_text = load_data(documents)\n",
        "optimal_num_topics = determine_optimal_number_of_topics(clean_text, start, stop, step)\n",
        "words = 10  # Number of words associated with each topic\n",
        "model = create_gensim_lsa_model(clean_text, optimal_num_topics, words)\n"
      ]
    },
    {
      "cell_type": "markdown",
      "metadata": {
        "id": "7oSK4soH70nf"
      },
      "source": [
        "## Question 3 (10 points):\n",
        "**Generate K topics by using lda2vec, the number of topics K should be decided by the coherence score, then summarize what are the topics.**\n",
        "\n",
        "You may refer the code here: https://nbviewer.org/github/cemoody/lda2vec/blob/master/examples/twenty_newsgroups/lda2vec/lda2vec.ipynb"
      ]
    },
    {
      "cell_type": "code",
      "execution_count": null,
      "metadata": {
        "colab": {
          "base_uri": "https://localhost:8080/"
        },
        "id": "wR8vlDQjrt6k",
        "outputId": "628c28f4-f854-46b7-e50e-08452d237e58"
      },
      "outputs": [
        {
          "name": "stdout",
          "output_type": "stream",
          "text": [
            "Requirement already satisfied: lda2vec in /usr/local/lib/python3.10/dist-packages (0.16.10)\n"
          ]
        }
      ],
      "source": [
        "pip install lda2vec\n"
      ]
    },
    {
      "cell_type": "code",
      "execution_count": null,
      "metadata": {
        "colab": {
          "base_uri": "https://localhost:8080/"
        },
        "id": "-kDyQMANr48h",
        "outputId": "4d93b27b-0fe7-4122-8cd4-01570937d251"
      },
      "outputs": [
        {
          "name": "stdout",
          "output_type": "stream",
          "text": [
            "Requirement already satisfied: lda2vec in /usr/local/lib/python3.10/dist-packages (0.16.10)\n"
          ]
        }
      ],
      "source": [
        "pip install --upgrade lda2vec\n"
      ]
    },
    {
      "cell_type": "code",
      "execution_count": null,
      "metadata": {
        "colab": {
          "base_uri": "https://localhost:8080/",
          "height": 1000
        },
        "id": "qFahYop3qn7F",
        "outputId": "dccdc90a-d413-4f2d-9260-c2ac07518823"
      },
      "outputs": [
        {
          "name": "stderr",
          "output_type": "stream",
          "text": [
            "[nltk_data] Downloading package punkt to /root/nltk_data...\n",
            "[nltk_data]   Unzipping tokenizers/punkt.zip.\n",
            "[nltk_data] Downloading package stopwords to /root/nltk_data...\n",
            "[nltk_data]   Unzipping corpora/stopwords.zip.\n",
            "[nltk_data] Downloading package wordnet to /root/nltk_data...\n"
          ]
        },
        {
          "name": "stdout",
          "output_type": "stream",
          "text": [
            "Topic 0: 0.172*\"product\" + 0.099*\"expectation\" + 0.099*\"highly\" + 0.099*\"exceeded\" + 0.099*\"recommended\" + 0.099*\"satisfied\" + 0.099*\"excellent\" + 0.034*\"quality\" + 0.034*\"disappointed\" + 0.034*\"'m\"\n",
            "Topic 1: 0.157*\"'m\" + 0.094*\"happy\" + 0.094*\"poor\" + 0.094*\"experience\" + 0.094*\"service\" + 0.094*\"disappointed\" + 0.094*\"quality\" + 0.088*\"product\" + 0.032*\"excellent\" + 0.032*\"satisfied\"\n"
          ]
        },
        {
          "data": {
            "text/html": [
              "\n",
              "<link rel=\"stylesheet\" type=\"text/css\" href=\"https://cdn.jsdelivr.net/gh/bmabey/pyLDAvis@3.4.0/pyLDAvis/js/ldavis.v1.0.0.css\">\n",
              "\n",
              "\n",
              "<div id=\"ldavis_el62731363599230140487290469427\" style=\"background-color:white;\"></div>\n",
              "<script type=\"text/javascript\">\n",
              "\n",
              "var ldavis_el62731363599230140487290469427_data = {\"mdsDat\": {\"x\": [0.06384801347456281, -0.06384801347456281], \"y\": [0.0, 0.0], \"topics\": [1, 2], \"cluster\": [1, 1], \"Freq\": [52.197946676939125, 47.80205332306088]}, \"tinfo\": {\"Term\": [\"'m\", \"expectation\", \"highly\", \"exceeded\", \"recommended\", \"satisfied\", \"excellent\", \"product\", \"happy\", \"poor\", \"experience\", \"service\", \"disappointed\", \"quality\", \"'m\", \"happy\", \"poor\", \"experience\", \"service\", \"disappointed\", \"quality\", \"product\", \"excellent\", \"satisfied\", \"recommended\", \"exceeded\", \"highly\", \"expectation\", \"expectation\", \"highly\", \"exceeded\", \"recommended\", \"satisfied\", \"excellent\", \"product\", \"quality\", \"disappointed\", \"service\", \"experience\", \"poor\", \"happy\", \"'m\"], \"Freq\": [1.0, 1.0, 1.0, 1.0, 1.0, 1.0, 1.0, 2.0, 1.0, 1.0, 1.0, 1.0, 1.0, 1.0, 1.3929178128626534, 0.8358470023753317, 0.8358454156429143, 0.8358412504703184, 0.8358264409677555, 0.8324015451585234, 0.8323991650598972, 0.7775411974188273, 0.2837418048745938, 0.28373406955405867, 0.28189617061768735, 0.28189372440521043, 0.28189098068040525, 0.2818741547053951, 0.8036556321451798, 0.8036394058123619, 0.8036367417875709, 0.8036344410388878, 0.8018675871422829, 0.8018600794360538, 1.4017902281081405, 0.2744310627206197, 0.27442873169892756, 0.27113648142541, 0.27112222283817644, 0.271118135981963, 0.2711165920585046, 0.27291196312957666], \"Total\": [1.0, 1.0, 1.0, 1.0, 1.0, 1.0, 1.0, 2.0, 1.0, 1.0, 1.0, 1.0, 1.0, 1.0, 1.66582977599223, 1.1069635944338363, 1.1069635516248773, 1.106963473308495, 1.1069629223931656, 1.106830276857451, 1.1068302277805169, 2.179331425526968, 1.0856018843106474, 1.0856016566963416, 1.085530611656575, 1.0855304661927814, 1.0855303864927672, 1.0855297868505749, 1.0855297868505749, 1.0855303864927672, 1.0855304661927814, 1.085530611656575, 1.0856016566963416, 1.0856018843106474, 2.179331425526968, 1.1068302277805169, 1.106830276857451, 1.1069629223931656, 1.106963473308495, 1.1069635516248773, 1.1069635944338363, 1.66582977599223], \"Category\": [\"Default\", \"Default\", \"Default\", \"Default\", \"Default\", \"Default\", \"Default\", \"Default\", \"Default\", \"Default\", \"Default\", \"Default\", \"Default\", \"Default\", \"Topic1\", \"Topic1\", \"Topic1\", \"Topic1\", \"Topic1\", \"Topic1\", \"Topic1\", \"Topic1\", \"Topic1\", \"Topic1\", \"Topic1\", \"Topic1\", \"Topic1\", \"Topic1\", \"Topic2\", \"Topic2\", \"Topic2\", \"Topic2\", \"Topic2\", \"Topic2\", \"Topic2\", \"Topic2\", \"Topic2\", \"Topic2\", \"Topic2\", \"Topic2\", \"Topic2\", \"Topic2\"], \"logprob\": [14.0, 13.0, 12.0, 11.0, 10.0, 9.0, 8.0, 7.0, 6.0, 5.0, 4.0, 3.0, 2.0, 1.0, -1.8517, -2.3624, -2.3624, -2.3624, -2.3624, -2.3665, -2.3665, -2.4347, -3.4428, -3.4428, -3.4493, -3.4493, -3.4493, -3.4494, -2.3137, -2.3137, -2.3137, -2.3137, -2.3159, -2.3159, -1.7574, -3.3882, -3.3882, -3.4002, -3.4003, -3.4003, -3.4003, -3.3937], \"loglift\": [14.0, 13.0, 12.0, 11.0, 10.0, 9.0, 8.0, 7.0, 6.0, 5.0, 4.0, 3.0, 2.0, 1.0, 0.4712, 0.3692, 0.3692, 0.3692, 0.3692, 0.3652, 0.3652, -0.3805, -0.6917, -0.6917, -0.6982, -0.6982, -0.6982, -0.6982, 0.4374, 0.4374, 0.4374, 0.4374, 0.4352, 0.4351, 0.2968, -0.6565, -0.6565, -0.6687, -0.6687, -0.6687, -0.6687, -1.0708]}, \"token.table\": {\"Topic\": [1, 1, 2, 2, 2, 1, 1, 2, 1, 1, 2, 1, 2, 2, 1], \"Freq\": [0.6003014320021761, 0.9034808867347152, 0.9212085990614732, 0.9211479958281352, 0.9212091755688062, 0.9033721745227941, 0.9033720756746806, 0.9212086666969252, 0.9033721106102647, 0.4588563209279642, 0.4588563209279642, 0.9034809267951244, 0.9212084756172366, 0.9211481889620167, 0.9033726241147081], \"Term\": [\"'m\", \"disappointed\", \"exceeded\", \"excellent\", \"expectation\", \"experience\", \"happy\", \"highly\", \"poor\", \"product\", \"product\", \"quality\", \"recommended\", \"satisfied\", \"service\"]}, \"R\": 14, \"lambda.step\": 0.01, \"plot.opts\": {\"xlab\": \"PC1\", \"ylab\": \"PC2\"}, \"topic.order\": [2, 1]};\n",
              "\n",
              "function LDAvis_load_lib(url, callback){\n",
              "  var s = document.createElement('script');\n",
              "  s.src = url;\n",
              "  s.async = true;\n",
              "  s.onreadystatechange = s.onload = callback;\n",
              "  s.onerror = function(){console.warn(\"failed to load library \" + url);};\n",
              "  document.getElementsByTagName(\"head\")[0].appendChild(s);\n",
              "}\n",
              "\n",
              "if(typeof(LDAvis) !== \"undefined\"){\n",
              "   // already loaded: just create the visualization\n",
              "   !function(LDAvis){\n",
              "       new LDAvis(\"#\" + \"ldavis_el62731363599230140487290469427\", ldavis_el62731363599230140487290469427_data);\n",
              "   }(LDAvis);\n",
              "}else if(typeof define === \"function\" && define.amd){\n",
              "   // require.js is available: use it to load d3/LDAvis\n",
              "   require.config({paths: {d3: \"https://d3js.org/d3.v5\"}});\n",
              "   require([\"d3\"], function(d3){\n",
              "      window.d3 = d3;\n",
              "      LDAvis_load_lib(\"https://cdn.jsdelivr.net/gh/bmabey/pyLDAvis@3.4.0/pyLDAvis/js/ldavis.v3.0.0.js\", function(){\n",
              "        new LDAvis(\"#\" + \"ldavis_el62731363599230140487290469427\", ldavis_el62731363599230140487290469427_data);\n",
              "      });\n",
              "    });\n",
              "}else{\n",
              "    // require.js not available: dynamically load d3 & LDAvis\n",
              "    LDAvis_load_lib(\"https://d3js.org/d3.v5.js\", function(){\n",
              "         LDAvis_load_lib(\"https://cdn.jsdelivr.net/gh/bmabey/pyLDAvis@3.4.0/pyLDAvis/js/ldavis.v3.0.0.js\", function(){\n",
              "                 new LDAvis(\"#\" + \"ldavis_el62731363599230140487290469427\", ldavis_el62731363599230140487290469427_data);\n",
              "            })\n",
              "         });\n",
              "}\n",
              "</script>"
            ],
            "text/plain": [
              "PreparedData(topic_coordinates=              x    y  topics  cluster       Freq\n",
              "topic                                           \n",
              "1      0.063848  0.0       1        1  52.197947\n",
              "0     -0.063848  0.0       2        1  47.802053, topic_info=            Term      Freq     Total Category  logprob  loglift\n",
              "3             'm  1.000000  1.000000  Default  14.0000  14.0000\n",
              "11   expectation  1.000000  1.000000  Default  13.0000  13.0000\n",
              "12        highly  1.000000  1.000000  Default  12.0000  12.0000\n",
              "10      exceeded  1.000000  1.000000  Default  11.0000  11.0000\n",
              "13   recommended  1.000000  1.000000  Default  10.0000  10.0000\n",
              "2      satisfied  1.000000  1.000000  Default   9.0000   9.0000\n",
              "0      excellent  1.000000  1.000000  Default   8.0000   8.0000\n",
              "1        product  2.000000  2.000000  Default   7.0000   7.0000\n",
              "7          happy  1.000000  1.000000  Default   6.0000   6.0000\n",
              "8           poor  1.000000  1.000000  Default   5.0000   5.0000\n",
              "6     experience  1.000000  1.000000  Default   4.0000   4.0000\n",
              "9        service  1.000000  1.000000  Default   3.0000   3.0000\n",
              "4   disappointed  1.000000  1.000000  Default   2.0000   2.0000\n",
              "5        quality  1.000000  1.000000  Default   1.0000   1.0000\n",
              "3             'm  1.392918  1.665830   Topic1  -1.8517   0.4712\n",
              "7          happy  0.835847  1.106964   Topic1  -2.3624   0.3692\n",
              "8           poor  0.835845  1.106964   Topic1  -2.3624   0.3692\n",
              "6     experience  0.835841  1.106963   Topic1  -2.3624   0.3692\n",
              "9        service  0.835826  1.106963   Topic1  -2.3624   0.3692\n",
              "4   disappointed  0.832402  1.106830   Topic1  -2.3665   0.3652\n",
              "5        quality  0.832399  1.106830   Topic1  -2.3665   0.3652\n",
              "1        product  0.777541  2.179331   Topic1  -2.4347  -0.3805\n",
              "0      excellent  0.283742  1.085602   Topic1  -3.4428  -0.6917\n",
              "2      satisfied  0.283734  1.085602   Topic1  -3.4428  -0.6917\n",
              "13   recommended  0.281896  1.085531   Topic1  -3.4493  -0.6982\n",
              "10      exceeded  0.281894  1.085530   Topic1  -3.4493  -0.6982\n",
              "12        highly  0.281891  1.085530   Topic1  -3.4493  -0.6982\n",
              "11   expectation  0.281874  1.085530   Topic1  -3.4494  -0.6982\n",
              "11   expectation  0.803656  1.085530   Topic2  -2.3137   0.4374\n",
              "12        highly  0.803639  1.085530   Topic2  -2.3137   0.4374\n",
              "10      exceeded  0.803637  1.085530   Topic2  -2.3137   0.4374\n",
              "13   recommended  0.803634  1.085531   Topic2  -2.3137   0.4374\n",
              "2      satisfied  0.801868  1.085602   Topic2  -2.3159   0.4352\n",
              "0      excellent  0.801860  1.085602   Topic2  -2.3159   0.4351\n",
              "1        product  1.401790  2.179331   Topic2  -1.7574   0.2968\n",
              "5        quality  0.274431  1.106830   Topic2  -3.3882  -0.6565\n",
              "4   disappointed  0.274429  1.106830   Topic2  -3.3882  -0.6565\n",
              "9        service  0.271136  1.106963   Topic2  -3.4002  -0.6687\n",
              "6     experience  0.271122  1.106963   Topic2  -3.4003  -0.6687\n",
              "8           poor  0.271118  1.106964   Topic2  -3.4003  -0.6687\n",
              "7          happy  0.271117  1.106964   Topic2  -3.4003  -0.6687\n",
              "3             'm  0.272912  1.665830   Topic2  -3.3937  -1.0708, token_table=      Topic      Freq          Term\n",
              "term                               \n",
              "3         1  0.600301            'm\n",
              "4         1  0.903481  disappointed\n",
              "10        2  0.921209      exceeded\n",
              "0         2  0.921148     excellent\n",
              "11        2  0.921209   expectation\n",
              "6         1  0.903372    experience\n",
              "7         1  0.903372         happy\n",
              "12        2  0.921209        highly\n",
              "8         1  0.903372          poor\n",
              "1         1  0.458856       product\n",
              "1         2  0.458856       product\n",
              "5         1  0.903481       quality\n",
              "13        2  0.921208   recommended\n",
              "2         2  0.921148     satisfied\n",
              "9         1  0.903373       service, R=14, lambda_step=0.01, plot_opts={'xlab': 'PC1', 'ylab': 'PC2'}, topic_order=[2, 1])"
            ]
          },
          "execution_count": 26,
          "metadata": {},
          "output_type": "execute_result"
        }
      ],
      "source": [
        "import nltk\n",
        "from nltk.corpus import stopwords\n",
        "from nltk.tokenize import word_tokenize\n",
        "from nltk.stem import WordNetLemmatizer\n",
        "from gensim import corpora, models\n",
        "import string\n",
        "\n",
        "# Download NLTK resources\n",
        "nltk.download('punkt')\n",
        "nltk.download('stopwords')\n",
        "nltk.download('wordnet')\n",
        "\n",
        "# Sample reviews\n",
        "reviews = [\n",
        "    \"The product is excellent and I am very satisfied with it.\",\n",
        "    \"I'm disappointed with the quality of this product.\",\n",
        "    \"The service was poor, and I'm not happy with the experience.\",\n",
        "    \"This product exceeded my expectations. Highly recommended!\"\n",
        "]\n",
        "\n",
        "# Preprocessing function\n",
        "def preprocess(reviews):\n",
        "    stop_words = set(stopwords.words('english'))\n",
        "    lemmatizer = WordNetLemmatizer()\n",
        "    preprocessed_reviews = []\n",
        "\n",
        "    for review in reviews:\n",
        "        # Tokenize\n",
        "        tokens = word_tokenize(review.lower())\n",
        "        # Remove punctuation and stopwords, and lemmatize\n",
        "        tokens = [lemmatizer.lemmatize(token) for token in tokens if token not in string.punctuation and token not in stop_words]\n",
        "        preprocessed_reviews.append(tokens)\n",
        "\n",
        "    return preprocessed_reviews\n",
        "\n",
        "# Preprocess reviews\n",
        "preprocessed_reviews = preprocess(reviews)\n",
        "\n",
        "# Create dictionary and document-term matrix\n",
        "dictionary = corpora.Dictionary(preprocessed_reviews)\n",
        "corpus = [dictionary.doc2bow(review) for review in preprocessed_reviews]\n",
        "\n",
        "# Train LDA model\n",
        "num_topics = 2  # Choose the number of topics\n",
        "lda_model = models.LdaModel(corpus, num_topics=num_topics, id2word=dictionary, passes=20)\n",
        "\n",
        "# Print topics\n",
        "for idx, topic in lda_model.print_topics(-1):\n",
        "    print(f'Topic {idx}: {topic}')\n",
        "\n",
        "# Visualize topics (optional)\n",
        "import pyLDAvis.gensim_models\n",
        "pyLDAvis.enable_notebook()\n",
        "vis = pyLDAvis.gensim_models.prepare(lda_model, corpus, dictionary)\n",
        "vis\n"
      ]
    },
    {
      "cell_type": "code",
      "execution_count": null,
      "metadata": {
        "id": "eN5t_pkOhJlG"
      },
      "outputs": [],
      "source": []
    },
    {
      "cell_type": "markdown",
      "metadata": {
        "id": "d89ODUx3jjJV"
      },
      "source": [
        "## Extra Question (5 Points)\n",
        "\n",
        "**Compare the results generated by the four topic modeling algorithms, which one is better? You should explain the reasons in details.**\n",
        "\n",
        "**This question will compensate for any points deducted in this exercise. Maximum marks for the exercise is 40 points.**"
      ]
    },
    {
      "cell_type": "code",
      "execution_count": null,
      "metadata": {
        "id": "CEfuCfsitoJG"
      },
      "outputs": [],
      "source": [
        "In comparing Latent Dirichlet Allocation (LDA), Latent Semantic Analysis (LSA), lda2vec, and BERT for topic modeling, several key factors need consideration: interpretability, coherence, scalability, and computational efficiency.\n",
        "\n",
        "LDA stands out for its high interpretability, as topics are represented as word distributions, aiding easy understanding and labeling. It typically produces coherent topics and is relatively scalable and computationally efficient.\n",
        "\n",
        "LSA, operating on the term-document matrix, offers less interpretable topics compared to LDA but maintains moderate coherence. While it's efficient for smaller datasets, its performance might suffer with larger, sparse matrices.\n",
        "\n",
        "lda2vec combines LDA's interpretability with word embeddings' semantic richness, potentially yielding topics with good coherence. However, it can be computationally intensive, especially during training, though it can handle large datasets with adequate resources.\n",
        "\n",
        "BERT, not inherently a topic modeling algorithm, requires more complex techniques for topic extraction. While offering deep contextual understanding, it lacks the interpretability of LDA and LSA and is less scalable and computationally efficient, making it better suited for tasks beyond traditional topic modeling.\n",
        "\n",
        "In conclusion, the choice of algorithm depends on task requirements. For interpretability and coherence, LDA is preferred, while lda2vec offers a balance between interpretability and semantic richness. LSA serves as a compromise, and BERT is suitable for tasks demanding deep contextual understanding but may be overkill for standard topic modeling."
      ]
    },
    {
      "cell_type": "markdown",
      "metadata": {
        "id": "7nZGAOwl70ng"
      },
      "source": [
        "## Question 4 (10 points):\n",
        "**Generate K topics by using BERTopic, the number of topics K should be decided by the coherence score, then summarize what are the topics.**\n",
        "\n",
        "You may refer the code here: https://colab.research.google.com/drive/1FieRA9fLdkQEGDIMYl0I3MCjSUKVF8C-?usp=sharing"
      ]
    },
    {
      "cell_type": "code",
      "source": [
        "from bertopic import BERTopic\n",
        "from umap import UMAP\n",
        "import hdbscan\n",
        "\n",
        "# Text data\n",
        "documents = [\n",
        "    \"The product is excellent and I am very satisfied with it.\",\n",
        "    \"I'm disappointed with the quality of this product.\",\n",
        "    \"The service was poor, and I'm not happy with the experience.\",\n",
        "    \"This product exceeded my expectations. Highly recommended!\"\n",
        "]\n",
        "\n",
        "# Initialize UMAP with adjusted parameters\n",
        "umap_model = UMAP(n_neighbors=15, n_components=2)  # Adjust n_components\n",
        "\n",
        "# Initialize HDBSCAN with adjusted parameters\n",
        "hdbscan_model = hdbscan.HDBSCAN(min_cluster_size=2, min_samples=1)\n",
        "\n",
        "# Create BERTopic model with UMAP and HDBSCAN models\n",
        "model = BERTopic(embedding_model=\"paraphrase-MiniLM-L6-v2\", umap_model=umap_model, hdbscan_model=hdbscan_model, verbose=True)\n",
        "\n",
        "# Fit BERTopic model to the text data\n",
        "topics, _ = model.fit_transform(documents)\n",
        "\n",
        "# Get the optimal number of topics based on coherence score\n",
        "optimal_topics = model.get_topic_info().shape[0]\n",
        "\n",
        "\n",
        "# Summarize the topics\n",
        "topic_info = model.get_topic_info()\n",
        "topic_words = model.get_topics()\n",
        "\n",
        "print(\"Number of optimal topics:\", optimal_topics)\n",
        "print(\"\\nSummarized Topics:\")\n",
        "for i, topic_tuple in enumerate(topic_info.values):\n",
        "    topic_id = topic_tuple[0]\n",
        "    topic_size = topic_tuple[1]\n",
        "    words_with_scores = topic_words[topic_id]\n",
        "    words = \", \".join(word for word, score in words_with_scores)\n",
        "    print(f\"Topic {topic_id}: Size: {topic_size}, Words: {words}\")\n",
        "\n",
        "\n",
        "\n",
        "\n",
        "\n",
        "\n",
        "\n",
        "\n",
        "\n"
      ],
      "metadata": {
        "id": "HYPubyVSD_Dy",
        "outputId": "f7e5ddf0-4a27-48c7-b134-528467d6a60d",
        "colab": {
          "base_uri": "https://localhost:8080/",
          "height": 275,
          "referenced_widgets": [
            "9154521b0e644d4d953f5ad9fe8ab8d9",
            "6ab63536f16840ec949e705c76823a10",
            "523b9e5fa5d2491d95e63ea7e4b4eba9",
            "62911edfc62e42f9859b323dcd06e188",
            "7531a492df5143529f5c2260a617e57f",
            "6c6aee14c807453b92230040a52fce35",
            "7e36d356016d4f97a1c03d38b4587db8",
            "4dbf9b67105145f29683a9077b02976d",
            "a249140081fc42478cac908a75ee046b",
            "b2e64790f2de4a0aa4e3ae8a2bf21d45",
            "ff7c69ab00a444799f09ff7173a29394"
          ]
        }
      },
      "execution_count": 86,
      "outputs": [
        {
          "output_type": "stream",
          "name": "stderr",
          "text": [
            "2024-03-30 02:42:26,688 - BERTopic - Embedding - Transforming documents to embeddings.\n"
          ]
        },
        {
          "output_type": "display_data",
          "data": {
            "text/plain": [
              "Batches:   0%|          | 0/1 [00:00<?, ?it/s]"
            ],
            "application/vnd.jupyter.widget-view+json": {
              "version_major": 2,
              "version_minor": 0,
              "model_id": "9154521b0e644d4d953f5ad9fe8ab8d9"
            }
          },
          "metadata": {}
        },
        {
          "output_type": "stream",
          "name": "stderr",
          "text": [
            "2024-03-30 02:42:27,696 - BERTopic - Embedding - Completed ✓\n",
            "2024-03-30 02:42:27,701 - BERTopic - Dimensionality - Fitting the dimensionality reduction algorithm\n",
            "2024-03-30 02:42:31,336 - BERTopic - Dimensionality - Completed ✓\n",
            "2024-03-30 02:42:31,339 - BERTopic - Cluster - Start clustering the reduced embeddings\n",
            "2024-03-30 02:42:31,347 - BERTopic - Cluster - Completed ✓\n",
            "2024-03-30 02:42:31,352 - BERTopic - Representation - Extracting topics from clusters using representation models.\n",
            "2024-03-30 02:42:31,363 - BERTopic - Representation - Completed ✓\n"
          ]
        },
        {
          "output_type": "stream",
          "name": "stdout",
          "text": [
            "Number of optimal topics: 2\n",
            "\n",
            "Summarized Topics:\n",
            "Topic 0: Size: 2, Words: product, exceeded, very, satisfied, recommended, my, it, is, highly, expectations\n",
            "Topic 1: Size: 2, Words: the, with, was, service, quality, poor, of, not, happy, experience\n"
          ]
        }
      ]
    },
    {
      "cell_type": "code",
      "source": [
        "pip install bertopic\n"
      ],
      "metadata": {
        "id": "nCH_rCrlD9Af",
        "outputId": "3e38d31a-e8d4-428d-ba4e-3281b54dad68",
        "colab": {
          "base_uri": "https://localhost:8080/"
        }
      },
      "execution_count": 66,
      "outputs": [
        {
          "output_type": "stream",
          "name": "stdout",
          "text": [
            "Requirement already satisfied: bertopic in /usr/local/lib/python3.10/dist-packages (0.16.0)\n",
            "Requirement already satisfied: numpy>=1.20.0 in /usr/local/lib/python3.10/dist-packages (from bertopic) (1.25.2)\n",
            "Requirement already satisfied: hdbscan>=0.8.29 in /usr/local/lib/python3.10/dist-packages (from bertopic) (0.8.33)\n",
            "Requirement already satisfied: umap-learn>=0.5.0 in /usr/local/lib/python3.10/dist-packages (from bertopic) (0.5.5)\n",
            "Requirement already satisfied: pandas>=1.1.5 in /usr/local/lib/python3.10/dist-packages (from bertopic) (2.2.1)\n",
            "Requirement already satisfied: scikit-learn>=0.22.2.post1 in /usr/local/lib/python3.10/dist-packages (from bertopic) (1.2.2)\n",
            "Requirement already satisfied: tqdm>=4.41.1 in /usr/local/lib/python3.10/dist-packages (from bertopic) (4.66.2)\n",
            "Requirement already satisfied: sentence-transformers>=0.4.1 in /usr/local/lib/python3.10/dist-packages (from bertopic) (2.6.1)\n",
            "Requirement already satisfied: plotly>=4.7.0 in /usr/local/lib/python3.10/dist-packages (from bertopic) (5.15.0)\n",
            "Requirement already satisfied: cython<3,>=0.27 in /usr/local/lib/python3.10/dist-packages (from hdbscan>=0.8.29->bertopic) (0.29.37)\n",
            "Requirement already satisfied: scipy>=1.0 in /usr/local/lib/python3.10/dist-packages (from hdbscan>=0.8.29->bertopic) (1.11.4)\n",
            "Requirement already satisfied: joblib>=1.0 in /usr/local/lib/python3.10/dist-packages (from hdbscan>=0.8.29->bertopic) (1.3.2)\n",
            "Requirement already satisfied: python-dateutil>=2.8.2 in /usr/local/lib/python3.10/dist-packages (from pandas>=1.1.5->bertopic) (2.8.2)\n",
            "Requirement already satisfied: pytz>=2020.1 in /usr/local/lib/python3.10/dist-packages (from pandas>=1.1.5->bertopic) (2023.4)\n",
            "Requirement already satisfied: tzdata>=2022.7 in /usr/local/lib/python3.10/dist-packages (from pandas>=1.1.5->bertopic) (2024.1)\n",
            "Requirement already satisfied: tenacity>=6.2.0 in /usr/local/lib/python3.10/dist-packages (from plotly>=4.7.0->bertopic) (8.2.3)\n",
            "Requirement already satisfied: packaging in /usr/local/lib/python3.10/dist-packages (from plotly>=4.7.0->bertopic) (24.0)\n",
            "Requirement already satisfied: threadpoolctl>=2.0.0 in /usr/local/lib/python3.10/dist-packages (from scikit-learn>=0.22.2.post1->bertopic) (3.4.0)\n",
            "Requirement already satisfied: transformers<5.0.0,>=4.32.0 in /usr/local/lib/python3.10/dist-packages (from sentence-transformers>=0.4.1->bertopic) (4.38.2)\n",
            "Requirement already satisfied: torch>=1.11.0 in /usr/local/lib/python3.10/dist-packages (from sentence-transformers>=0.4.1->bertopic) (2.2.1+cu121)\n",
            "Requirement already satisfied: huggingface-hub>=0.15.1 in /usr/local/lib/python3.10/dist-packages (from sentence-transformers>=0.4.1->bertopic) (0.20.3)\n",
            "Requirement already satisfied: Pillow in /usr/local/lib/python3.10/dist-packages (from sentence-transformers>=0.4.1->bertopic) (9.4.0)\n",
            "Requirement already satisfied: numba>=0.51.2 in /usr/local/lib/python3.10/dist-packages (from umap-learn>=0.5.0->bertopic) (0.58.1)\n",
            "Requirement already satisfied: pynndescent>=0.5 in /usr/local/lib/python3.10/dist-packages (from umap-learn>=0.5.0->bertopic) (0.5.12)\n",
            "Requirement already satisfied: filelock in /usr/local/lib/python3.10/dist-packages (from huggingface-hub>=0.15.1->sentence-transformers>=0.4.1->bertopic) (3.13.3)\n",
            "Requirement already satisfied: fsspec>=2023.5.0 in /usr/local/lib/python3.10/dist-packages (from huggingface-hub>=0.15.1->sentence-transformers>=0.4.1->bertopic) (2023.6.0)\n",
            "Requirement already satisfied: requests in /usr/local/lib/python3.10/dist-packages (from huggingface-hub>=0.15.1->sentence-transformers>=0.4.1->bertopic) (2.31.0)\n",
            "Requirement already satisfied: pyyaml>=5.1 in /usr/local/lib/python3.10/dist-packages (from huggingface-hub>=0.15.1->sentence-transformers>=0.4.1->bertopic) (6.0.1)\n",
            "Requirement already satisfied: typing-extensions>=3.7.4.3 in /usr/local/lib/python3.10/dist-packages (from huggingface-hub>=0.15.1->sentence-transformers>=0.4.1->bertopic) (4.10.0)\n",
            "Requirement already satisfied: llvmlite<0.42,>=0.41.0dev0 in /usr/local/lib/python3.10/dist-packages (from numba>=0.51.2->umap-learn>=0.5.0->bertopic) (0.41.1)\n",
            "Requirement already satisfied: six>=1.5 in /usr/local/lib/python3.10/dist-packages (from python-dateutil>=2.8.2->pandas>=1.1.5->bertopic) (1.16.0)\n",
            "Requirement already satisfied: sympy in /usr/local/lib/python3.10/dist-packages (from torch>=1.11.0->sentence-transformers>=0.4.1->bertopic) (1.12)\n",
            "Requirement already satisfied: networkx in /usr/local/lib/python3.10/dist-packages (from torch>=1.11.0->sentence-transformers>=0.4.1->bertopic) (3.2.1)\n",
            "Requirement already satisfied: jinja2 in /usr/local/lib/python3.10/dist-packages (from torch>=1.11.0->sentence-transformers>=0.4.1->bertopic) (3.1.3)\n",
            "Requirement already satisfied: nvidia-cuda-nvrtc-cu12==12.1.105 in /usr/local/lib/python3.10/dist-packages (from torch>=1.11.0->sentence-transformers>=0.4.1->bertopic) (12.1.105)\n",
            "Requirement already satisfied: nvidia-cuda-runtime-cu12==12.1.105 in /usr/local/lib/python3.10/dist-packages (from torch>=1.11.0->sentence-transformers>=0.4.1->bertopic) (12.1.105)\n",
            "Requirement already satisfied: nvidia-cuda-cupti-cu12==12.1.105 in /usr/local/lib/python3.10/dist-packages (from torch>=1.11.0->sentence-transformers>=0.4.1->bertopic) (12.1.105)\n",
            "Requirement already satisfied: nvidia-cudnn-cu12==8.9.2.26 in /usr/local/lib/python3.10/dist-packages (from torch>=1.11.0->sentence-transformers>=0.4.1->bertopic) (8.9.2.26)\n",
            "Requirement already satisfied: nvidia-cublas-cu12==12.1.3.1 in /usr/local/lib/python3.10/dist-packages (from torch>=1.11.0->sentence-transformers>=0.4.1->bertopic) (12.1.3.1)\n",
            "Requirement already satisfied: nvidia-cufft-cu12==11.0.2.54 in /usr/local/lib/python3.10/dist-packages (from torch>=1.11.0->sentence-transformers>=0.4.1->bertopic) (11.0.2.54)\n",
            "Requirement already satisfied: nvidia-curand-cu12==10.3.2.106 in /usr/local/lib/python3.10/dist-packages (from torch>=1.11.0->sentence-transformers>=0.4.1->bertopic) (10.3.2.106)\n",
            "Requirement already satisfied: nvidia-cusolver-cu12==11.4.5.107 in /usr/local/lib/python3.10/dist-packages (from torch>=1.11.0->sentence-transformers>=0.4.1->bertopic) (11.4.5.107)\n",
            "Requirement already satisfied: nvidia-cusparse-cu12==12.1.0.106 in /usr/local/lib/python3.10/dist-packages (from torch>=1.11.0->sentence-transformers>=0.4.1->bertopic) (12.1.0.106)\n",
            "Requirement already satisfied: nvidia-nccl-cu12==2.19.3 in /usr/local/lib/python3.10/dist-packages (from torch>=1.11.0->sentence-transformers>=0.4.1->bertopic) (2.19.3)\n",
            "Requirement already satisfied: nvidia-nvtx-cu12==12.1.105 in /usr/local/lib/python3.10/dist-packages (from torch>=1.11.0->sentence-transformers>=0.4.1->bertopic) (12.1.105)\n",
            "Requirement already satisfied: triton==2.2.0 in /usr/local/lib/python3.10/dist-packages (from torch>=1.11.0->sentence-transformers>=0.4.1->bertopic) (2.2.0)\n",
            "Requirement already satisfied: nvidia-nvjitlink-cu12 in /usr/local/lib/python3.10/dist-packages (from nvidia-cusolver-cu12==11.4.5.107->torch>=1.11.0->sentence-transformers>=0.4.1->bertopic) (12.4.99)\n",
            "Requirement already satisfied: regex!=2019.12.17 in /usr/local/lib/python3.10/dist-packages (from transformers<5.0.0,>=4.32.0->sentence-transformers>=0.4.1->bertopic) (2023.12.25)\n",
            "Requirement already satisfied: tokenizers<0.19,>=0.14 in /usr/local/lib/python3.10/dist-packages (from transformers<5.0.0,>=4.32.0->sentence-transformers>=0.4.1->bertopic) (0.15.2)\n",
            "Requirement already satisfied: safetensors>=0.4.1 in /usr/local/lib/python3.10/dist-packages (from transformers<5.0.0,>=4.32.0->sentence-transformers>=0.4.1->bertopic) (0.4.2)\n",
            "Requirement already satisfied: MarkupSafe>=2.0 in /usr/local/lib/python3.10/dist-packages (from jinja2->torch>=1.11.0->sentence-transformers>=0.4.1->bertopic) (2.1.5)\n",
            "Requirement already satisfied: charset-normalizer<4,>=2 in /usr/local/lib/python3.10/dist-packages (from requests->huggingface-hub>=0.15.1->sentence-transformers>=0.4.1->bertopic) (3.3.2)\n",
            "Requirement already satisfied: idna<4,>=2.5 in /usr/local/lib/python3.10/dist-packages (from requests->huggingface-hub>=0.15.1->sentence-transformers>=0.4.1->bertopic) (3.6)\n",
            "Requirement already satisfied: urllib3<3,>=1.21.1 in /usr/local/lib/python3.10/dist-packages (from requests->huggingface-hub>=0.15.1->sentence-transformers>=0.4.1->bertopic) (2.0.7)\n",
            "Requirement already satisfied: certifi>=2017.4.17 in /usr/local/lib/python3.10/dist-packages (from requests->huggingface-hub>=0.15.1->sentence-transformers>=0.4.1->bertopic) (2024.2.2)\n",
            "Requirement already satisfied: mpmath>=0.19 in /usr/local/lib/python3.10/dist-packages (from sympy->torch>=1.11.0->sentence-transformers>=0.4.1->bertopic) (1.3.0)\n"
          ]
        }
      ]
    },
    {
      "cell_type": "markdown",
      "metadata": {
        "id": "IUKC7suYhVl0"
      },
      "source": [
        "**Important: Reflective Feedback on this exercise**\n",
        "\n",
        "Please provide your thoughts and feedback on the exercises you completed in this assignment.\n",
        "\n",
        "Consider the following points in your response:\n",
        "\n",
        "**Learning Experience:** Describe your overall learning experience in working with text data and extracting features using various topic modeling algorithms. Did you understand these algorithms and did the implementations helped in grasping the nuances of feature extraction from text data.\n",
        "\n",
        "**Challenges Encountered:** Were there specific difficulties in completing this exercise?\n",
        "\n",
        "Relevance to Your Field of Study: How does this exercise relate to the field of NLP?\n",
        "\n",
        "**(Your submission will not be graded if this question is left unanswered)**\n",
        "\n"
      ]
    },
    {
      "cell_type": "code",
      "execution_count": null,
      "metadata": {
        "id": "CAq0DZWAhU9m"
      },
      "outputs": [],
      "source": [
        "# Your answer here (no code for this question, write down your answer as detail as possible for the above questions):\n",
        "\n",
        "'''\n",
        "Please write you answer here:\n",
        "Working on this assignment provided a valuable learning experience in understanding different topic modeling algorithms and their applications in text data analysis. I gained a deeper understanding of the underlying principles behind algorithms like LDA, LSA, lda2vec, and BERT, and how they extract features from text data to identify topics. Implementing these algorithms helped solidify my comprehension of their strengths and limitations, particularly in terms of interpretability, coherence, scalability, and computational efficiency.\n",
        "One challenge encountered was grasping the nuances of lda2vec, as it combines aspects of both LDA and word embeddings, requiring a deeper understanding of both concepts. Additionally, working with BERT for topic modeling presented challenges due to its primary use case for contextual understanding rather than explicit topic extraction. Overcoming these challenges involved delving into additional resources and experimenting with different approaches to adapt these algorithms to the task at hand.\n",
        "\n",
        "\n",
        "\n",
        "\n",
        "\n",
        "'''"
      ]
    }
  ],
  "metadata": {
    "colab": {
      "toc_visible": true,
      "provenance": []
    },
    "kernelspec": {
      "display_name": "Python 3 (ipykernel)",
      "language": "python",
      "name": "python3"
    },
    "language_info": {
      "codemirror_mode": {
        "name": "ipython",
        "version": 3
      },
      "file_extension": ".py",
      "mimetype": "text/x-python",
      "name": "python",
      "nbconvert_exporter": "python",
      "pygments_lexer": "ipython3",
      "version": "3.9.12"
    },
    "widgets": {
      "application/vnd.jupyter.widget-state+json": {
        "9154521b0e644d4d953f5ad9fe8ab8d9": {
          "model_module": "@jupyter-widgets/controls",
          "model_name": "HBoxModel",
          "model_module_version": "1.5.0",
          "state": {
            "_dom_classes": [],
            "_model_module": "@jupyter-widgets/controls",
            "_model_module_version": "1.5.0",
            "_model_name": "HBoxModel",
            "_view_count": null,
            "_view_module": "@jupyter-widgets/controls",
            "_view_module_version": "1.5.0",
            "_view_name": "HBoxView",
            "box_style": "",
            "children": [
              "IPY_MODEL_6ab63536f16840ec949e705c76823a10",
              "IPY_MODEL_523b9e5fa5d2491d95e63ea7e4b4eba9",
              "IPY_MODEL_62911edfc62e42f9859b323dcd06e188"
            ],
            "layout": "IPY_MODEL_7531a492df5143529f5c2260a617e57f"
          }
        },
        "6ab63536f16840ec949e705c76823a10": {
          "model_module": "@jupyter-widgets/controls",
          "model_name": "HTMLModel",
          "model_module_version": "1.5.0",
          "state": {
            "_dom_classes": [],
            "_model_module": "@jupyter-widgets/controls",
            "_model_module_version": "1.5.0",
            "_model_name": "HTMLModel",
            "_view_count": null,
            "_view_module": "@jupyter-widgets/controls",
            "_view_module_version": "1.5.0",
            "_view_name": "HTMLView",
            "description": "",
            "description_tooltip": null,
            "layout": "IPY_MODEL_6c6aee14c807453b92230040a52fce35",
            "placeholder": "​",
            "style": "IPY_MODEL_7e36d356016d4f97a1c03d38b4587db8",
            "value": "Batches: 100%"
          }
        },
        "523b9e5fa5d2491d95e63ea7e4b4eba9": {
          "model_module": "@jupyter-widgets/controls",
          "model_name": "FloatProgressModel",
          "model_module_version": "1.5.0",
          "state": {
            "_dom_classes": [],
            "_model_module": "@jupyter-widgets/controls",
            "_model_module_version": "1.5.0",
            "_model_name": "FloatProgressModel",
            "_view_count": null,
            "_view_module": "@jupyter-widgets/controls",
            "_view_module_version": "1.5.0",
            "_view_name": "ProgressView",
            "bar_style": "success",
            "description": "",
            "description_tooltip": null,
            "layout": "IPY_MODEL_4dbf9b67105145f29683a9077b02976d",
            "max": 1,
            "min": 0,
            "orientation": "horizontal",
            "style": "IPY_MODEL_a249140081fc42478cac908a75ee046b",
            "value": 1
          }
        },
        "62911edfc62e42f9859b323dcd06e188": {
          "model_module": "@jupyter-widgets/controls",
          "model_name": "HTMLModel",
          "model_module_version": "1.5.0",
          "state": {
            "_dom_classes": [],
            "_model_module": "@jupyter-widgets/controls",
            "_model_module_version": "1.5.0",
            "_model_name": "HTMLModel",
            "_view_count": null,
            "_view_module": "@jupyter-widgets/controls",
            "_view_module_version": "1.5.0",
            "_view_name": "HTMLView",
            "description": "",
            "description_tooltip": null,
            "layout": "IPY_MODEL_b2e64790f2de4a0aa4e3ae8a2bf21d45",
            "placeholder": "​",
            "style": "IPY_MODEL_ff7c69ab00a444799f09ff7173a29394",
            "value": " 1/1 [00:00&lt;00:00,  7.97it/s]"
          }
        },
        "7531a492df5143529f5c2260a617e57f": {
          "model_module": "@jupyter-widgets/base",
          "model_name": "LayoutModel",
          "model_module_version": "1.2.0",
          "state": {
            "_model_module": "@jupyter-widgets/base",
            "_model_module_version": "1.2.0",
            "_model_name": "LayoutModel",
            "_view_count": null,
            "_view_module": "@jupyter-widgets/base",
            "_view_module_version": "1.2.0",
            "_view_name": "LayoutView",
            "align_content": null,
            "align_items": null,
            "align_self": null,
            "border": null,
            "bottom": null,
            "display": null,
            "flex": null,
            "flex_flow": null,
            "grid_area": null,
            "grid_auto_columns": null,
            "grid_auto_flow": null,
            "grid_auto_rows": null,
            "grid_column": null,
            "grid_gap": null,
            "grid_row": null,
            "grid_template_areas": null,
            "grid_template_columns": null,
            "grid_template_rows": null,
            "height": null,
            "justify_content": null,
            "justify_items": null,
            "left": null,
            "margin": null,
            "max_height": null,
            "max_width": null,
            "min_height": null,
            "min_width": null,
            "object_fit": null,
            "object_position": null,
            "order": null,
            "overflow": null,
            "overflow_x": null,
            "overflow_y": null,
            "padding": null,
            "right": null,
            "top": null,
            "visibility": null,
            "width": null
          }
        },
        "6c6aee14c807453b92230040a52fce35": {
          "model_module": "@jupyter-widgets/base",
          "model_name": "LayoutModel",
          "model_module_version": "1.2.0",
          "state": {
            "_model_module": "@jupyter-widgets/base",
            "_model_module_version": "1.2.0",
            "_model_name": "LayoutModel",
            "_view_count": null,
            "_view_module": "@jupyter-widgets/base",
            "_view_module_version": "1.2.0",
            "_view_name": "LayoutView",
            "align_content": null,
            "align_items": null,
            "align_self": null,
            "border": null,
            "bottom": null,
            "display": null,
            "flex": null,
            "flex_flow": null,
            "grid_area": null,
            "grid_auto_columns": null,
            "grid_auto_flow": null,
            "grid_auto_rows": null,
            "grid_column": null,
            "grid_gap": null,
            "grid_row": null,
            "grid_template_areas": null,
            "grid_template_columns": null,
            "grid_template_rows": null,
            "height": null,
            "justify_content": null,
            "justify_items": null,
            "left": null,
            "margin": null,
            "max_height": null,
            "max_width": null,
            "min_height": null,
            "min_width": null,
            "object_fit": null,
            "object_position": null,
            "order": null,
            "overflow": null,
            "overflow_x": null,
            "overflow_y": null,
            "padding": null,
            "right": null,
            "top": null,
            "visibility": null,
            "width": null
          }
        },
        "7e36d356016d4f97a1c03d38b4587db8": {
          "model_module": "@jupyter-widgets/controls",
          "model_name": "DescriptionStyleModel",
          "model_module_version": "1.5.0",
          "state": {
            "_model_module": "@jupyter-widgets/controls",
            "_model_module_version": "1.5.0",
            "_model_name": "DescriptionStyleModel",
            "_view_count": null,
            "_view_module": "@jupyter-widgets/base",
            "_view_module_version": "1.2.0",
            "_view_name": "StyleView",
            "description_width": ""
          }
        },
        "4dbf9b67105145f29683a9077b02976d": {
          "model_module": "@jupyter-widgets/base",
          "model_name": "LayoutModel",
          "model_module_version": "1.2.0",
          "state": {
            "_model_module": "@jupyter-widgets/base",
            "_model_module_version": "1.2.0",
            "_model_name": "LayoutModel",
            "_view_count": null,
            "_view_module": "@jupyter-widgets/base",
            "_view_module_version": "1.2.0",
            "_view_name": "LayoutView",
            "align_content": null,
            "align_items": null,
            "align_self": null,
            "border": null,
            "bottom": null,
            "display": null,
            "flex": null,
            "flex_flow": null,
            "grid_area": null,
            "grid_auto_columns": null,
            "grid_auto_flow": null,
            "grid_auto_rows": null,
            "grid_column": null,
            "grid_gap": null,
            "grid_row": null,
            "grid_template_areas": null,
            "grid_template_columns": null,
            "grid_template_rows": null,
            "height": null,
            "justify_content": null,
            "justify_items": null,
            "left": null,
            "margin": null,
            "max_height": null,
            "max_width": null,
            "min_height": null,
            "min_width": null,
            "object_fit": null,
            "object_position": null,
            "order": null,
            "overflow": null,
            "overflow_x": null,
            "overflow_y": null,
            "padding": null,
            "right": null,
            "top": null,
            "visibility": null,
            "width": null
          }
        },
        "a249140081fc42478cac908a75ee046b": {
          "model_module": "@jupyter-widgets/controls",
          "model_name": "ProgressStyleModel",
          "model_module_version": "1.5.0",
          "state": {
            "_model_module": "@jupyter-widgets/controls",
            "_model_module_version": "1.5.0",
            "_model_name": "ProgressStyleModel",
            "_view_count": null,
            "_view_module": "@jupyter-widgets/base",
            "_view_module_version": "1.2.0",
            "_view_name": "StyleView",
            "bar_color": null,
            "description_width": ""
          }
        },
        "b2e64790f2de4a0aa4e3ae8a2bf21d45": {
          "model_module": "@jupyter-widgets/base",
          "model_name": "LayoutModel",
          "model_module_version": "1.2.0",
          "state": {
            "_model_module": "@jupyter-widgets/base",
            "_model_module_version": "1.2.0",
            "_model_name": "LayoutModel",
            "_view_count": null,
            "_view_module": "@jupyter-widgets/base",
            "_view_module_version": "1.2.0",
            "_view_name": "LayoutView",
            "align_content": null,
            "align_items": null,
            "align_self": null,
            "border": null,
            "bottom": null,
            "display": null,
            "flex": null,
            "flex_flow": null,
            "grid_area": null,
            "grid_auto_columns": null,
            "grid_auto_flow": null,
            "grid_auto_rows": null,
            "grid_column": null,
            "grid_gap": null,
            "grid_row": null,
            "grid_template_areas": null,
            "grid_template_columns": null,
            "grid_template_rows": null,
            "height": null,
            "justify_content": null,
            "justify_items": null,
            "left": null,
            "margin": null,
            "max_height": null,
            "max_width": null,
            "min_height": null,
            "min_width": null,
            "object_fit": null,
            "object_position": null,
            "order": null,
            "overflow": null,
            "overflow_x": null,
            "overflow_y": null,
            "padding": null,
            "right": null,
            "top": null,
            "visibility": null,
            "width": null
          }
        },
        "ff7c69ab00a444799f09ff7173a29394": {
          "model_module": "@jupyter-widgets/controls",
          "model_name": "DescriptionStyleModel",
          "model_module_version": "1.5.0",
          "state": {
            "_model_module": "@jupyter-widgets/controls",
            "_model_module_version": "1.5.0",
            "_model_name": "DescriptionStyleModel",
            "_view_count": null,
            "_view_module": "@jupyter-widgets/base",
            "_view_module_version": "1.2.0",
            "_view_name": "StyleView",
            "description_width": ""
          }
        }
      }
    }
  },
  "nbformat": 4,
  "nbformat_minor": 0
}